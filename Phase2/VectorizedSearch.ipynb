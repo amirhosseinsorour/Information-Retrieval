{
 "cells": [
  {
   "cell_type": "markdown",
   "id": "6813517c",
   "metadata": {},
   "source": [
    "# <center> *Phase2(Part1):* **Vectorized Search**"
   ]
  },
  {
   "cell_type": "code",
   "execution_count": 1,
   "id": "d3ddc505",
   "metadata": {},
   "outputs": [],
   "source": [
    "import sys\n",
    "sys.path.append('D:\\AUT Courses\\Information Retrieval\\Project')"
   ]
  },
  {
   "cell_type": "code",
   "execution_count": 2,
   "id": "23f21ca4",
   "metadata": {},
   "outputs": [],
   "source": [
    "from Phase1.PositionalBooleanSearch import MainDictionary, Word\n",
    "from Phase1.PositionalBooleanSearch import load_dictionary as load_positional_dictionary\n",
    "from Phase1.PositionalBooleanSearch import preprocess\n",
    "import numpy as np\n",
    "import operator\n",
    "import pickle\n",
    "import time"
   ]
  },
  {
   "cell_type": "code",
   "execution_count": 3,
   "id": "0f7cdb9e",
   "metadata": {},
   "outputs": [],
   "source": [
    "class Term:\n",
    "    def __init__(self, word: Word):\n",
    "        self.term = word.term\n",
    "        self.df = len(word.postings)\n",
    "        self.postings = self.convert_postings(word.postings)\n",
    "        self.champions = self.make_champion_list(self.postings, r=100)\n",
    "\n",
    "    @staticmethod\n",
    "    def convert_postings(pos_postings):\n",
    "        postings = {}\n",
    "        for doc_id in pos_postings:\n",
    "            tf = len(pos_postings[doc_id])\n",
    "            postings[doc_id] = tf\n",
    "        return postings\n",
    "\n",
    "    @staticmethod\n",
    "    def make_champion_list(postings_list, r):\n",
    "        champions = sorted(postings_list.items(), key=operator.itemgetter(1), reverse=True)[:r]\n",
    "        return {champions[i][0]: champions[i][1] for i in range(len(champions))}\n",
    "\n",
    "    def tfidf_weight(self, doc_id, N):\n",
    "        tf = self.postings[doc_id]\n",
    "        return tfidf(tf, self.df, N)"
   ]
  },
  {
   "cell_type": "code",
   "execution_count": 4,
   "id": "778bffc0",
   "metadata": {},
   "outputs": [],
   "source": [
    "class Dictionary:\n",
    "    def __init__(self, pos_dict: MainDictionary):\n",
    "        self.dictionary = self.convert_dict(pos_dict.get_dict())\n",
    "        self.docs_titles = pos_dict.documents_titles\n",
    "        self.N = len(self.docs_titles)\n",
    "        self.docs_lengths = self.compute_lengths()\n",
    "\n",
    "    @staticmethod\n",
    "    def convert_dict(pos_dict):\n",
    "        dictionary = {}\n",
    "        for term in pos_dict:\n",
    "            dictionary[term] = Term(pos_dict[term])\n",
    "        return dictionary\n",
    "\n",
    "    def compute_lengths(self):\n",
    "        lengths = np.zeros(self.N)\n",
    "        for term in self.dictionary:\n",
    "            df = self.dictionary[term].df\n",
    "            for doc_id, tf in self.dictionary[term].postings.items():\n",
    "                weight = tfidf(tf, df, self.N)\n",
    "                lengths[doc_id] += weight ** 2\n",
    "        return np.sqrt(lengths)\n",
    "\n",
    "    def search_query(self, query, champion):\n",
    "        try:\n",
    "            term = self.dictionary[query]\n",
    "            if champion:\n",
    "                return term.df, term.champions\n",
    "            return term.df, term.postings\n",
    "        except KeyError:\n",
    "            return 0., {}\n",
    "\n",
    "    def get_doc(self, doc_id):\n",
    "        return self.docs_titles[doc_id]\n",
    "\n",
    "    def get_term(self, term):\n",
    "        return self.dictionary[term]"
   ]
  },
  {
   "cell_type": "code",
   "execution_count": 5,
   "id": "958ac52d",
   "metadata": {},
   "outputs": [],
   "source": [
    "def save_dictionary(main_dictionary):\n",
    "    with open('..\\\\Phase2\\\\dictionary.pkl', 'wb') as output:\n",
    "        pickle.dump(main_dictionary, output)"
   ]
  },
  {
   "cell_type": "code",
   "execution_count": 6,
   "id": "05510a4d",
   "metadata": {},
   "outputs": [],
   "source": [
    "# positional_dictionary = load_positional_dictionary()\n",
    "# main_dictionary = Dictionary(positional_dictionary)\n",
    "# save_dictionary(main_dictionary)"
   ]
  },
  {
   "cell_type": "code",
   "execution_count": 7,
   "id": "e670125b",
   "metadata": {},
   "outputs": [],
   "source": [
    "def tfidf(tf, df, N):\n",
    "    if tf * df == 0:\n",
    "        return 0.\n",
    "    return (1 + np.log10(tf)) * np.log10(1. * N / df)"
   ]
  },
  {
   "cell_type": "code",
   "execution_count": 8,
   "id": "19e11bfa",
   "metadata": {},
   "outputs": [],
   "source": [
    "def retrieve_docs(scores, dictionary, k):\n",
    "    scores = sorted(scores.items(), key=operator.itemgetter(1), reverse=True)\n",
    "    results = []\n",
    "    for doc_id, score in scores:\n",
    "        doc = dictionary.get_doc(doc_id)\n",
    "        if doc not in results:\n",
    "            results.append(doc)\n",
    "        if len(results) == k:\n",
    "            break\n",
    "    return results"
   ]
  },
  {
   "cell_type": "code",
   "execution_count": 9,
   "id": "915e24e7",
   "metadata": {},
   "outputs": [],
   "source": [
    "def cosine_score(query, dictionary, k, champion=False):\n",
    "    scores = {}\n",
    "    lengths = dictionary.docs_lengths\n",
    "    N = dictionary.N\n",
    "\n",
    "    query_terms = preprocess([query])[0]\n",
    "    for qt in query_terms:\n",
    "        qt_df, qt_postings = dictionary.search_query(qt, champion)\n",
    "        qt_tf = query_terms.count(qt)\n",
    "        qt_weight = tfidf(qt_tf, qt_df, N)\n",
    "\n",
    "        for doc_id, doc_tf in qt_postings.items():\n",
    "            doc_weight = tfidf(doc_tf, qt_df, N)\n",
    "            try:\n",
    "                scores[doc_id] += qt_weight * doc_weight\n",
    "            except KeyError:\n",
    "                scores[doc_id] = qt_weight * doc_weight\n",
    "\n",
    "    for doc_id in scores:\n",
    "        scores[doc_id] /= lengths[doc_id]\n",
    "\n",
    "    return retrieve_docs(scores, dictionary, k)"
   ]
  },
  {
   "cell_type": "code",
   "execution_count": 10,
   "id": "1a6c1d69",
   "metadata": {},
   "outputs": [],
   "source": [
    "def load_dictionary():\n",
    "    with open('..\\\\Phase2\\\\dictionary.pkl', 'rb') as input:\n",
    "        return pickle.load(input)"
   ]
  },
  {
   "cell_type": "code",
   "execution_count": 11,
   "id": "194c469d",
   "metadata": {},
   "outputs": [],
   "source": [
    "main_dictionary = load_dictionary()"
   ]
  },
  {
   "cell_type": "code",
   "execution_count": 12,
   "id": "f75bc7fb",
   "metadata": {},
   "outputs": [
    {
     "name": "stdout",
     "output_type": "stream",
     "text": [
      ">> Please Enter your Query: سازمان برنامه و بودجه\n",
      ">> Top 10 Results for «سازمان برنامه و بودجه» : \n",
      "====================\n",
      "گزارش عملکرد بودجه سال ٩٩ در کمیسیون برنامه\n",
      "حضور میرکاظمی در کمیسیون برنامه و بودجه\n",
      "جزئیات نشست غیرعلنی مجلس به روایت قالیباف\n",
      "بررسی مطالعات سازمان برنامه درباره آمایش سرزمین در نشست کمیسیون برنامه\n",
      "قالیباف: تا سه ماه آینده گزارش نهایی تفریغ بودجه 99 در صحن قرائت خواهد شد\n",
      "۱۰ کارگروه‌ برای اصلاح ساختار بودجه در سازمان برنامه تشکیل شده است\n",
      "سازمان برنامه موظف به ارائه اصلاحات اقتصادی بودجه به مجلس شد\n",
      "گزارش سازمان برنامه و بودجه: ساختار بودجه باید اصلاح شود\n",
      "ارائه لایحه بودجه به مجلس چند لایه می‌شود\n",
      "نظارت دیوان محاسبات بر اجرای بودجه سالانه در مقاطع ۲ ماهه را باید به فال نیک گرفت\n",
      "===================================================\n",
      ">> Retrieval Time: --- 0.6168818473815918 seconds ---\n",
      "===================================================\n",
      ">> Please Enter your Query: انتخابات\n",
      ">> Top 10 Results for «انتخابات» : \n",
      "====================\n",
      "چکیده پروتکل های بهداشتی برگزاری انتخابات\n",
      "پایان شمارش آراء هشتمین انتخابات سازمان نظام پزشکی در اکثر شهرها\n",
      "قالیباف: حق الزحمه ناظران انتخابات شوراها این هفته پرداخت می‌شود\n",
      "سه شنبه؛ برگزاری انتخابات هیات رئیسه مجلس در مجمع عمومی فراکسیون انقلاب اسلامی\n",
      "گرم کردن رئیس فدراسیون بسکتبال برای 4 سال آینده!\n",
      "ثبت نام۲۹۶ داوطلب انتخابات میان دوره‌ای مجلس در حوزه انتخابیه تهران\n",
      "بحث و بررسی پیرامون انتخابات هیات رئیسه مجلس و ریاست جمهوری در فراکسیون نیروهای انقلاب\n",
      "ارائه گزارش وزیر کشور از فرآیند برگزاری انتخابات در کمیسیون امورداخلی کشور\n",
      "پروتکل‌های ضدکرونایی برای انتخاباتِ فردا\n",
      "انتخابات در ۲۴ شهر به صورت الکترونیکی برگزار می شود\n",
      "===================================================\n",
      ">> Retrieval Time: --- 0.48595261573791504 seconds ---\n",
      "===================================================\n",
      ">> Please Enter your Query: \n"
     ]
    }
   ],
   "source": [
    "while True:\n",
    "    print(\">> Please Enter your Query: \", end='')\n",
    "    query = input()\n",
    "\n",
    "    if not query:\n",
    "        break\n",
    "\n",
    "    start_time = time.time()\n",
    "    print(\">> Top 10 Results for «%s» : \" % query)\n",
    "    print(\"====================\")\n",
    "    for result in cosine_score(query, main_dictionary, k=10, champion=True):\n",
    "        print(result.strip())\n",
    "    print(\"===================================================\")\n",
    "    print(\">> Retrieval Time: --- %s seconds ---\" % (time.time() - start_time))\n",
    "    print(\"===================================================\")"
   ]
  }
 ],
 "metadata": {
  "kernelspec": {
   "display_name": "Python 3 (ipykernel)",
   "language": "python",
   "name": "python3"
  },
  "language_info": {
   "codemirror_mode": {
    "name": "ipython",
    "version": 3
   },
   "file_extension": ".py",
   "mimetype": "text/x-python",
   "name": "python",
   "nbconvert_exporter": "python",
   "pygments_lexer": "ipython3",
   "version": "3.9.10"
  }
 },
 "nbformat": 4,
 "nbformat_minor": 5
}
