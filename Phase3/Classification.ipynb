{
 "cells": [
  {
   "cell_type": "markdown",
   "id": "bb153c71",
   "metadata": {},
   "source": [
    "# <center> *Phase3(Part3):* **Classification using K-Nearest Neighbors**"
   ]
  },
  {
   "cell_type": "code",
   "execution_count": 1,
   "id": "97ad7d6d",
   "metadata": {},
   "outputs": [],
   "source": [
    "import sys\n",
    "sys.path.append('D:\\AUT Courses\\Information Retrieval\\Project')"
   ]
  },
  {
   "cell_type": "code",
   "execution_count": 2,
   "id": "e40c1476",
   "metadata": {},
   "outputs": [],
   "source": [
    "from Phase3.Embedding import query_embedding, EmbeddingDictionary, Term\n",
    "from gensim.models import Word2Vec\n",
    "import numpy as np\n",
    "import pickle\n",
    "import random\n",
    "import time"
   ]
  },
  {
   "cell_type": "code",
   "execution_count": 3,
   "id": "60b9ed6d",
   "metadata": {},
   "outputs": [],
   "source": [
    "TAGS = ['sport', 'economy', 'political', 'culture', 'health']"
   ]
  },
  {
   "cell_type": "code",
   "execution_count": 4,
   "id": "ff65f122",
   "metadata": {},
   "outputs": [],
   "source": [
    "class Class:\n",
    "    def __init__(self, tag):\n",
    "        self.tag = tag\n",
    "        self.documents = []\n",
    "        self.doc_ids = []\n",
    "\n",
    "    def add_vector(self, vector, doc_id):\n",
    "        self.documents.append(vector)\n",
    "        self.doc_ids.append(doc_id)"
   ]
  },
  {
   "cell_type": "code",
   "execution_count": 5,
   "id": "629f1d21",
   "metadata": {},
   "outputs": [],
   "source": [
    "class KNN:\n",
    "    def __init__(self, vectors, k=50):\n",
    "        self.vectors = vectors\n",
    "        self.classes = {tag: Class(tag) for tag in TAGS}\n",
    "        self.k = k\n",
    "\n",
    "    @staticmethod\n",
    "    def load_train_data():\n",
    "        with open(\"..\\\\Phase3\\\\train_docs_vectors.pkl\", 'rb') as input1:\n",
    "            with open(\"..\\\\Phase3\\\\train_tags.pkl\", 'rb') as input2:\n",
    "                return pickle.load(input1), pickle.load(input2)\n",
    "\n",
    "    @staticmethod\n",
    "    def cosine_similarity(vector1, vector2):\n",
    "        vectors_norm = np.linalg.norm(vector1) * np.linalg.norm(vector2)\n",
    "        if vectors_norm == 0:\n",
    "            return 0.\n",
    "\n",
    "        return np.dot(vector1, vector2) / vectors_norm\n",
    "\n",
    "    @staticmethod\n",
    "    def find_most_tag(tag_list):\n",
    "        for t in range(len(tag_list)):\n",
    "            if tag_list[t] == 'sports':\n",
    "                tag_list[t] = 'sport'\n",
    "            if tag_list[t] == 'politics':\n",
    "                tag_list[t] = 'political'\n",
    "\n",
    "        res, count = '', 0\n",
    "        for tag in TAGS:\n",
    "            if tag_list.count(tag) > count:\n",
    "                count = tag_list.count(tag)\n",
    "                res = tag\n",
    "        return res\n",
    "\n",
    "    def run(self):\n",
    "        training_data, train_tags = self.load_train_data()\n",
    "\n",
    "        for doc_id in range(len(self.vectors)):\n",
    "            vector = self.vectors[doc_id]\n",
    "            similarities = [self.cosine_similarity(vector, doc) for doc in training_data]\n",
    "            doc_ids = np.argpartition(similarities, -self.k)[-self.k:]\n",
    "            tag = self.find_most_tag([train_tags[id] for id in doc_ids])\n",
    "            self.classes[tag].add_vector(vector, doc_id)\n",
    "\n",
    "    def save_classes(self):\n",
    "        with open('..\\\\Phase3\\\\classes.pkl', 'wb') as output:\n",
    "            pickle.dump(self.classes, output)\n",
    "\n",
    "    @staticmethod\n",
    "    def load_classes():\n",
    "        with open('..\\\\Phase3\\\\classes20.pkl', 'rb') as input:\n",
    "            return pickle.load(input)"
   ]
  },
  {
   "cell_type": "code",
   "execution_count": 6,
   "id": "cf3a2c25",
   "metadata": {},
   "outputs": [],
   "source": [
    "def run_classification():\n",
    "    with open('..\\\\Phase3\\\\7k_docs_vectors.pkl', 'rb') as input:\n",
    "        vectors = pickle.load(input)\n",
    "\n",
    "    knn = KNN(vectors)\n",
    "    knn.run()\n",
    "    knn.save_classes()"
   ]
  },
  {
   "cell_type": "code",
   "execution_count": 7,
   "id": "af18e636",
   "metadata": {},
   "outputs": [],
   "source": [
    "# run_classification()"
   ]
  },
  {
   "cell_type": "code",
   "execution_count": 8,
   "id": "4830c286",
   "metadata": {},
   "outputs": [],
   "source": [
    "def retrieve_docs(doc_ids, news, k):\n",
    "    results = []\n",
    "    for doc_id in doc_ids:\n",
    "        doc = news[doc_id]\n",
    "        if doc not in results:\n",
    "            results.append(doc)\n",
    "        if len(results) == k:\n",
    "            break\n",
    "    return results"
   ]
  },
  {
   "cell_type": "code",
   "execution_count": 9,
   "id": "554ab522",
   "metadata": {},
   "outputs": [],
   "source": [
    "def search_classes(query_vector, category: Class, news, num=10):\n",
    "    documents = category.documents\n",
    "    doc_ids = category.doc_ids\n",
    "\n",
    "    similarities = [KNN.cosine_similarity(query_vector, doc) for doc in documents]\n",
    "    sorted_doc_ids = [doc_ids[index] for index in\n",
    "                      sorted(range(len(similarities)), key=lambda n: similarities[n], reverse=True)]\n",
    "\n",
    "    return retrieve_docs(sorted_doc_ids, news, k=num)"
   ]
  },
  {
   "cell_type": "code",
   "execution_count": 10,
   "id": "6cc123d3",
   "metadata": {},
   "outputs": [],
   "source": [
    "def decompose_query(raw_query):\n",
    "    cat = random.choice(TAGS)\n",
    "    for tag in TAGS:\n",
    "        if tag in raw_query:\n",
    "            cat = tag\n",
    "\n",
    "    query = raw_query.replace(\"cat:\" + cat, \"\")\n",
    "    return query, cat"
   ]
  },
  {
   "cell_type": "code",
   "execution_count": 11,
   "id": "58c45a65",
   "metadata": {},
   "outputs": [],
   "source": [
    "def load_news():\n",
    "    with open('..\\\\Phase3\\\\7k_news_titles.pkl', 'rb') as input:\n",
    "        return pickle.load(input)"
   ]
  },
  {
   "cell_type": "code",
   "execution_count": 12,
   "id": "bbb87a63",
   "metadata": {},
   "outputs": [
    {
     "name": "stdout",
     "output_type": "stream",
     "text": [
      ">> Please Enter your Query: cat:sport دادگاه\n",
      ">> Top 10 Results for « دادگاه» : \n",
      "====================\n",
      "دادگاه CAS درخواست پرسپولیس را رد کرد/ فرصت 30 روزه برای پرداخت طلب کالدرون + سند\n",
      "تعویق در اعلام رای دادگاه CAS درباره فولاد برای سومین‌بار\n",
      "دادگاه CAS زمان صدور رای کالدرون را تا ٢۵ خرداد تمدید کرد\n",
      "دادگاه  CAS صدور رای بازی پرسپولیس و النصر را به تاخیر انداخت\n",
      "پنجره باشگاه فولاد باز شد\n",
      "انتخابات فدراسیون زورخانه‌ای باطل شد\n",
      "پنجره نقل و انتقالات باشگاه فولاد خوزستان باز شد\n",
      "شاکی استقلال رضایت داد/حساب‌ها باز شد\n",
      "مهلت ٣٠ روزه فیفا به پرسپولیس برای پرداخت مطالبات کالدرون/ پنجره نقل‌وانتقالاتی بسته می‌شود؟\n",
      "فروزان تراکتور را محکوم کرد/شکایت بدون نتیجه مربی پیشین از استقلال\n",
      "===================================================\n",
      ">> Retrieval Time: --- 0.11002445220947266 seconds ---\n",
      "===================================================\n",
      ">> Please Enter your Query: cat:economy میوه\n",
      ">> Top 10 Results for « میوه» : \n",
      "====================\n",
      "بازدید معاون اول رئیس جمهور از میدان میوه و تره‌بار/ تاکید مخبر بر ثبات‌بخشی به بازار\n",
      "قیمت دام زنده در عید قربان\n",
      "دعوا بر سر هندوانه و گوجه ایرانی در کشورهای منطقه!\n",
      "قیمت کالاهای اساسی مورد نیاز ماه رمضان اعلام شد\n",
      "مرغ در سال جدید ارزان شد؟\n",
      "بهتر بود به جای واردات مرغ، رصد و پایش در توزیع بیشتر می شد\n",
      "روس‌ها مانع مثبت شدن تراز تجاری ایران\n",
      "وزارت جهاد کشاورزی برای تامین به موقع علوفه برنامه‌ریزی کند\n",
      "وزیر جهاد کشاورزی: ۹۵ میلیون تخم مرغ نطفه‌دار برای تامین نیاز بازار وارد می‌شود\n",
      "یارانه لبنیاتی ایرانی‌ها در جیب مافیا و کشورهای همسایه\n",
      "===================================================\n",
      ">> Retrieval Time: --- 0.004045248031616211 seconds ---\n",
      "===================================================\n",
      ">> Please Enter your Query: \n"
     ]
    }
   ],
   "source": [
    "classes = KNN.load_classes()\n",
    "news = load_news()\n",
    "model = Word2Vec.load(\"w2v_model.model\")\n",
    "dictionary = EmbeddingDictionary.load_dictionary()\n",
    "\n",
    "while True:\n",
    "    print(\">> Please Enter your Query: \", end='')\n",
    "    query = input()\n",
    "\n",
    "    if not query:\n",
    "        break\n",
    "\n",
    "    query, cat = decompose_query(query)\n",
    "    query_vector = query_embedding(query, model, dictionary)\n",
    "\n",
    "    start_time = time.time()\n",
    "    print(\">> Top 10 Results for «%s» : \" % query)\n",
    "    print(\"====================\")\n",
    "    for result in search_classes(query_vector, classes[cat], news, num=10):\n",
    "        print(result.strip())\n",
    "    print(\"===================================================\")\n",
    "    print(\">> Retrieval Time: --- %s seconds ---\" % (time.time() - start_time))\n",
    "    print(\"===================================================\")"
   ]
  }
 ],
 "metadata": {
  "kernelspec": {
   "display_name": "Python 3 (ipykernel)",
   "language": "python",
   "name": "python3"
  },
  "language_info": {
   "codemirror_mode": {
    "name": "ipython",
    "version": 3
   },
   "file_extension": ".py",
   "mimetype": "text/x-python",
   "name": "python",
   "nbconvert_exporter": "python",
   "pygments_lexer": "ipython3",
   "version": "3.9.10"
  }
 },
 "nbformat": 4,
 "nbformat_minor": 5
}
