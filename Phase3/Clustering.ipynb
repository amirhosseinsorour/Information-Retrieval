{
 "cells": [
  {
   "cell_type": "markdown",
   "id": "42ca6a45",
   "metadata": {},
   "source": [
    "# <center> *Phase3(Part2):* **Clustering using K-means**"
   ]
  },
  {
   "cell_type": "code",
   "execution_count": 1,
   "id": "2372df42",
   "metadata": {},
   "outputs": [],
   "source": [
    "import sys\n",
    "sys.path.append('D:\\AUT Courses\\Information Retrieval\\Project')"
   ]
  },
  {
   "cell_type": "code",
   "execution_count": 2,
   "id": "31ddac12",
   "metadata": {},
   "outputs": [],
   "source": [
    "from Phase3.Embedding import query_embedding, EmbeddingDictionary, Term\n",
    "from gensim.models import Word2Vec\n",
    "from matplotlib import pyplot as plt\n",
    "import numpy as np\n",
    "import pandas as pd\n",
    "import random\n",
    "import pickle\n",
    "import time"
   ]
  },
  {
   "cell_type": "code",
   "execution_count": 3,
   "id": "da5221f7",
   "metadata": {},
   "outputs": [],
   "source": [
    "class Cluster:\n",
    "    def __init__(self, centroid):\n",
    "        self.centroid = centroid\n",
    "        self.documents = []\n",
    "        self.doc_ids = []\n",
    "\n",
    "    def add_vector(self, vector, doc_id):\n",
    "        self.documents.append(vector)\n",
    "        self.doc_ids.append(doc_id)\n",
    "\n",
    "    def mean(self):\n",
    "        return np.mean(self.documents, axis=0)\n",
    "\n",
    "    def rss(self):\n",
    "        return sum([np.linalg.norm(doc - self.centroid) ** 2 for doc in self.documents])"
   ]
  },
  {
   "cell_type": "code",
   "execution_count": 4,
   "id": "a0117a0a",
   "metadata": {},
   "outputs": [],
   "source": [
    "class KMeans:\n",
    "    def __init__(self, vectors, k=100, epochs=10):\n",
    "        self.vectors = vectors\n",
    "        self.centroids = random.sample(vectors, k)\n",
    "        self.clusters = [Cluster(c) for c in self.centroids]\n",
    "        self.cluster_num = k\n",
    "        self.epochs = epochs\n",
    "        self.G = []  # RSS over time\n",
    "\n",
    "    @staticmethod\n",
    "    def cosine_similarity(vector1, vector2):\n",
    "        vectors_norm = np.linalg.norm(vector1) * np.linalg.norm(vector2)\n",
    "        if vectors_norm == 0:\n",
    "            return 0.\n",
    "\n",
    "        return np.dot(vector1, vector2) / vectors_norm\n",
    "\n",
    "    def rss(self):\n",
    "        return sum([c.rss() for c in self.clusters])\n",
    "\n",
    "    def run(self):\n",
    "        for e in range(self.epochs):\n",
    "            print(\"epoch = \", e + 1)\n",
    "\n",
    "            for doc_id in range(len(self.vectors)):\n",
    "                vector = self.vectors[doc_id]\n",
    "                similarities = [self.cosine_similarity(vector, cluster.centroid) for cluster in self.clusters]\n",
    "                cluster_index = similarities.index(max(similarities))\n",
    "                self.clusters[cluster_index].add_vector(vector, doc_id)\n",
    "\n",
    "            # Measurement\n",
    "            self.G.append(self.rss())\n",
    "\n",
    "            # Last epoch\n",
    "            if e == self.epochs - 1:\n",
    "                break\n",
    "\n",
    "            # update centroids\n",
    "            self.centroids = [c.mean() for c in self.clusters]\n",
    "            self.clusters = [Cluster(c) for c in self.centroids]\n",
    "\n",
    "    def plot_rss(self):\n",
    "        e = [i for i in range(self.epochs)]\n",
    "\n",
    "        plt.plot(e, self.G, color='green')\n",
    "        plt.xlabel(\"Epoch\")\n",
    "        plt.ylabel(\"RSS\")\n",
    "        plt.show()\n",
    "\n",
    "    def save_clusters(self):\n",
    "        with open('..\\\\Phase3\\\\clusters.pkl', 'wb') as output:\n",
    "            pickle.dump(self.clusters, output)\n",
    "\n",
    "    @staticmethod\n",
    "    def load_clusters():\n",
    "        with open('..\\\\Phase3\\\\clusters100.pkl', 'rb') as input:\n",
    "            return pickle.load(input)"
   ]
  },
  {
   "cell_type": "code",
   "execution_count": 5,
   "id": "eb951926",
   "metadata": {},
   "outputs": [],
   "source": [
    "def load_vectorized_docs():\n",
    "    with open('..\\\\Phase3\\\\train_docs_vectors.pkl', 'rb') as input:\n",
    "        return pickle.load(input)"
   ]
  },
  {
   "cell_type": "code",
   "execution_count": 6,
   "id": "fd8f82e5",
   "metadata": {},
   "outputs": [],
   "source": [
    "def run_clustering():\n",
    "    docs_vectors = load_vectorized_docs()\n",
    "\n",
    "    k_means = KMeans(docs_vectors)\n",
    "    k_means.run()\n",
    "    k_means.plot_rss()\n",
    "    k_means.save_clusters()"
   ]
  },
  {
   "cell_type": "code",
   "execution_count": 7,
   "id": "1e21b055",
   "metadata": {},
   "outputs": [],
   "source": [
    "# run_clustering()"
   ]
  },
  {
   "cell_type": "code",
   "execution_count": 8,
   "id": "6b2b1c7b",
   "metadata": {},
   "outputs": [],
   "source": [
    "def retrieve_docs(doc_ids, news, k):\n",
    "    results = []\n",
    "    for doc_id in doc_ids:\n",
    "        doc = news[doc_id]\n",
    "        if doc not in results:\n",
    "            results.append(doc)\n",
    "        if len(results) == k:\n",
    "            break\n",
    "    return results"
   ]
  },
  {
   "cell_type": "code",
   "execution_count": 9,
   "id": "d7b950fa",
   "metadata": {},
   "outputs": [],
   "source": [
    "def search_clusters(query_vector, clusters, news, b=1, num=10):\n",
    "    cluster_similarities = [KMeans.cosine_similarity(query_vector, cluster.centroid) for cluster in clusters]\n",
    "    cluster_indexes = np.argpartition(cluster_similarities, -b)[-b:]\n",
    "\n",
    "    all_selected_docs = []\n",
    "    all_selected_doc_ids = []\n",
    "    for i in range(b):\n",
    "        all_selected_docs += clusters[cluster_indexes[i]].documents\n",
    "        all_selected_doc_ids += clusters[cluster_indexes[i]].doc_ids\n",
    "\n",
    "    similarities = [KMeans.cosine_similarity(query_vector, doc) for doc in all_selected_docs]\n",
    "    sorted_doc_ids = [all_selected_doc_ids[index] for index in\n",
    "                      sorted(range(len(similarities)), key=lambda n: similarities[n], reverse=True)]\n",
    "\n",
    "    return retrieve_docs(sorted_doc_ids, news, k=num)"
   ]
  },
  {
   "cell_type": "code",
   "execution_count": 10,
   "id": "36edfd30",
   "metadata": {},
   "outputs": [],
   "source": [
    "def load_news():\n",
    "    with open('..\\\\Phase3\\\\50k_news_titles.pkl', 'rb') as input:\n",
    "        return pickle.load(input)"
   ]
  },
  {
   "cell_type": "code",
   "execution_count": 12,
   "id": "b077da60",
   "metadata": {},
   "outputs": [
    {
     "name": "stdout",
     "output_type": "stream",
     "text": [
      ">> Please Enter your Query: سازمان ملل متحد\n",
      ">> Top 10 Results for «سازمان ملل متحد» : \n",
      "====================\n",
      "https://www.isna.ir/news/99062115929/رایزنی-ظریف-با-وزیر-امور-خارجه-سنت-وینسنت\n",
      "https://www.farsnews.ir/news/13991015000925/نامه-قالیباف-به-روسای-مجالس-کشورهای-جهان|-ترور-شهیدسلیمانی-صلح-بین\n",
      "https://www.isna.ir/news/98070302822/بررسی-مهمترین-موضوعات-دوجانبه-و-بین-المللی-در-دیدار-روسای-جمهوری\n",
      "https://www.isna.ir/news/98122015769/سفیر-جدید-ایران-استوارنامه-خود-را-تقدیم-پادشاه-بلژیک-کرد\n",
      "https://www.isna.ir/news/98042312137/حضور-ظریف-در-نیویورک\n",
      "https://www.farsnews.ir/news/13990707001110/همکاری‌های-ایران-و-آلمان-باید-بدون-توجه-به-تحریم‌های-غیرقانونی-آمریکا\n",
      "https://www.isna.ir/news/99090504252/بیانیه-چهار-نهاد-یونسکو-درباره-میراث-تاریخی-قره-باغ\n",
      "https://www.farsnews.ir/news/13990819001067/امیرعبداللهیان-امنیت-افغانستان-را-امنیت-خود-و-منطقه-می‌دانیم\n",
      "https://www.farsnews.ir/news/13990923000193/تاکید-پوتین-بر-توسعه-همکاری-اتحادیه-اقتصادی-اوراسیا-با-ایران\n",
      "https://www.farsnews.ir/news/13991201000217/پیام-نماینده-مجلس-ایران-به-اتحادیه-بین-المجالس-جهانی--دسترسی-بدون\n",
      "===================================================\n",
      ">> Retrieval Time: --- 0.09846901893615723 seconds ---\n",
      "===================================================\n",
      ">> Please Enter your Query: انتخابات ریاست جمهوری\n",
      ">> Top 10 Results for «انتخابات ریاست جمهوری» : \n",
      "====================\n",
      "https://www.farsnews.ir/news/13990925000189/شورای-نگهبان-تعیین‌کننده-نهایی-نامزدهای-انتخابات-ریاست-جمهوری-است-\n",
      "https://www.farsnews.ir/news/13991217000974/حقیقت‌پور-علی-لاریجانی-فعالیت-انتخاباتی-ندارد\n",
      "https://www.farsnews.ir/news/13991002000246/برنامه‌های-رئیس-جمهور-توسط-حزب-و-جبهه‌های-سیاسی-داده-شود-دبیر-حزب-0\n",
      "https://www.isna.ir/news/98100403314/جلسات-انتخاباتی-جوانان-اصلاح-طلب-هفتگی-برگذار-خواهد-شد\n",
      "https://www.farsnews.ir/news/13991126000687/حزب-مردم‌سالاری-30-بهمن-نامزد-خود-را-برای-انتخابات-۱۴۰۰-معرفی-می‌کند\n",
      "https://www.farsnews.ir/news/13990830000481/ورود-حزب-اعتماد-ملی-به-مصادیق-انتخاباتی-400-گرامی-مقدم-کاندیدای\n",
      "https://www.farsnews.ir/news/13990827000376/خباز-اصلاح‌طلبان-شاید-در-شرایط-اضطرار-از-نامزد-غیر-اصلاح‌طلب-حمایت\n",
      "https://www.farsnews.ir/news/13991202000336/مصطفی-کواکبیان-کاندید-انتخابات-ریاست-جمهوری-۱۴۰۰-می‌شود\n",
      "https://www.farsnews.ir/news/13990830000473/حزب-اراده-ملت-در-انتخابات-ریاست-جمهوری-400-مشارکتی-ندارد-نگاه-ویژه-به\n",
      "https://www.farsnews.ir/news/13990827000472/جهانگیری-گفته-برای-400-نامزد-نمی‌شود-تدوین-راهبرد-انتخاباتی-حزب\n",
      "===================================================\n",
      ">> Retrieval Time: --- 0.004558086395263672 seconds ---\n",
      "===================================================\n",
      ">> Please Enter your Query: \n"
     ]
    }
   ],
   "source": [
    "clusters = KMeans.load_clusters()\n",
    "news = load_news()\n",
    "model = Word2Vec.load(\"w2v_model.model\")\n",
    "dictionary = EmbeddingDictionary.load_dictionary()\n",
    "\n",
    "while True:\n",
    "    print(\">> Please Enter your Query: \", end='')\n",
    "    query = input()\n",
    "\n",
    "    if not query:\n",
    "        break\n",
    "\n",
    "    query_vector = query_embedding(query, model, dictionary)\n",
    "\n",
    "    start_time = time.time()\n",
    "    print(\">> Top 10 Results for «%s» : \" % query)\n",
    "    print(\"====================\")\n",
    "    for result in search_clusters(query_vector, clusters, news, b=1, num=10):\n",
    "        print(result.strip())\n",
    "    print(\"===================================================\")\n",
    "    print(\">> Retrieval Time: --- %s seconds ---\" % (time.time() - start_time))\n",
    "    print(\"===================================================\")"
   ]
  }
 ],
 "metadata": {
  "kernelspec": {
   "display_name": "Python 3 (ipykernel)",
   "language": "python",
   "name": "python3"
  },
  "language_info": {
   "codemirror_mode": {
    "name": "ipython",
    "version": 3
   },
   "file_extension": ".py",
   "mimetype": "text/x-python",
   "name": "python",
   "nbconvert_exporter": "python",
   "pygments_lexer": "ipython3",
   "version": "3.9.10"
  }
 },
 "nbformat": 4,
 "nbformat_minor": 5
}
