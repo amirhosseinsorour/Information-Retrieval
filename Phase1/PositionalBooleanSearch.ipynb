{
 "cells": [
  {
   "cell_type": "markdown",
   "id": "dbbe0651",
   "metadata": {},
   "source": [
    "# <center> *Phase 1:* **Positional Boolean Search**"
   ]
  },
  {
   "cell_type": "code",
   "execution_count": 1,
   "id": "a9b7bf58",
   "metadata": {},
   "outputs": [],
   "source": [
    "from hazm import *\n",
    "import pandas as pd\n",
    "import numpy as np\n",
    "from matplotlib import pyplot as plt\n",
    "import string\n",
    "import operator\n",
    "import pickle\n",
    "import time"
   ]
  },
  {
   "cell_type": "code",
   "execution_count": 2,
   "id": "1c7ab537",
   "metadata": {},
   "outputs": [],
   "source": [
    "class Word:\n",
    "    def __init__(self, term):\n",
    "        self.term = term\n",
    "        self.freq = 0\n",
    "        self.postings = {}\n",
    "\n",
    "    def add_posting(self, doc_id, position):\n",
    "        if doc_id in self.postings:\n",
    "            self.postings[doc_id].append(position)\n",
    "        else:\n",
    "            self.postings[doc_id] = [position]\n",
    "\n",
    "        self.freq += 1"
   ]
  },
  {
   "cell_type": "code",
   "execution_count": 3,
   "id": "36151bb3",
   "metadata": {},
   "outputs": [],
   "source": [
    "class MainDictionary:\n",
    "    def __init__(self):\n",
    "        self.dictionary = {}\n",
    "        self.documents_titles = []\n",
    "\n",
    "    def add_word(self, term, doc_id, position):\n",
    "        if term in self.dictionary:\n",
    "            word = self.dictionary[term]\n",
    "        else:\n",
    "            word = Word(term)\n",
    "\n",
    "        word.add_posting(doc_id, position)\n",
    "        self.dictionary[term] = word\n",
    "\n",
    "    def get_dict(self):\n",
    "        return self.dictionary\n",
    "\n",
    "    def set_doc_titles(self, doc_titles):\n",
    "        self.documents_titles = doc_titles\n",
    "\n",
    "    def get_docs(self, doc_ids):\n",
    "        return [self.documents_titles[i] for i in doc_ids]\n",
    "\n",
    "    def search_query(self, query):\n",
    "        try:\n",
    "            word = self.dictionary[query]\n",
    "            return word.postings\n",
    "        except KeyError:\n",
    "            return {}"
   ]
  },
  {
   "cell_type": "code",
   "execution_count": 4,
   "id": "a460abbc",
   "metadata": {},
   "outputs": [],
   "source": [
    "def read_documents():\n",
    "    df = pd.read_excel(\"..\\\\Phase1\\\\IR1_7k_news.xlsx\")\n",
    "    contents = df['content'].tolist()\n",
    "    titles = df['title'].tolist()\n",
    "    return contents, titles"
   ]
  },
  {
   "cell_type": "code",
   "execution_count": 5,
   "id": "569a5e28",
   "metadata": {},
   "outputs": [],
   "source": [
    "def refine_token(token):\n",
    "    punc = \".،؛:؟!«»(){}[]\" + string.punctuation\n",
    "    refined_token = token.translate(str.maketrans('', '', punc))\n",
    "\n",
    "    return refined_token"
   ]
  },
  {
   "cell_type": "code",
   "execution_count": 6,
   "id": "325fd4a0",
   "metadata": {},
   "outputs": [],
   "source": [
    "def preprocess(documents):\n",
    "    normalizer = Normalizer(token_based=True)\n",
    "    lemmatizer = Lemmatizer()\n",
    "    documents_tokens = []\n",
    "\n",
    "    count = 0\n",
    "    for document in documents:\n",
    "        normalized_doc = normalizer.normalize(document)\n",
    "\n",
    "        tokens = word_tokenize(normalized_doc)\n",
    "        final_tokens = []\n",
    "\n",
    "        for token in tokens:\n",
    "            token = lemmatizer.lemmatize(token)\n",
    "            token = refine_token(token)\n",
    "\n",
    "            if not token:\n",
    "                continue\n",
    "            if token in stopwords_list():\n",
    "                continue\n",
    "\n",
    "            final_tokens.append(token)\n",
    "\n",
    "        documents_tokens.append(final_tokens)\n",
    "        # print(count)\n",
    "        count += 1\n",
    "\n",
    "    return documents_tokens"
   ]
  },
  {
   "cell_type": "code",
   "execution_count": 7,
   "id": "890cae64",
   "metadata": {},
   "outputs": [],
   "source": [
    "def tokens_number(tokens_list):\n",
    "    if type(tokens_list) == list:\n",
    "        return sum(tokens_number(tokens) for tokens in tokens_list)\n",
    "    else:\n",
    "        return 1"
   ]
  },
  {
   "cell_type": "code",
   "execution_count": 8,
   "id": "99e2ccb9",
   "metadata": {},
   "outputs": [],
   "source": [
    "def build_dictionary():\n",
    "    documents, titles = read_documents()\n",
    "    doc_tokens = preprocess(documents)\n",
    "    # print(\"Number of Tokens: T = \" + str(tokens_number(doc_tokens)))\n",
    "    dictionary = positional_indexing(doc_tokens)\n",
    "    dictionary.set_doc_titles(titles)\n",
    "    return dictionary"
   ]
  },
  {
   "cell_type": "code",
   "execution_count": 9,
   "id": "39edf6f6",
   "metadata": {},
   "outputs": [],
   "source": [
    "def save_dictionary(main_dictionary):\n",
    "    with open('..\\\\Phase1\\\\dictionary.pkl', 'wb') as output:\n",
    "        pickle.dump(main_dictionary, output)"
   ]
  },
  {
   "cell_type": "code",
   "execution_count": 10,
   "id": "437c6b31",
   "metadata": {},
   "outputs": [],
   "source": [
    "# main_dictionary = build_dictionary()\n",
    "# save_dictionary(main_dictionary)"
   ]
  },
  {
   "cell_type": "code",
   "execution_count": 11,
   "id": "39262b19",
   "metadata": {},
   "outputs": [],
   "source": [
    "def load_dictionary():\n",
    "    with open('..\\\\Phase1\\\\dictionary.pkl', 'rb') as input:\n",
    "        return pickle.load(input)"
   ]
  },
  {
   "cell_type": "code",
   "execution_count": 12,
   "id": "a8ef6d17",
   "metadata": {},
   "outputs": [],
   "source": [
    "def check_Zipf(dictionary):\n",
    "    sorted_words = sorted(dictionary.values(), key=operator.attrgetter('freq'), reverse=True)\n",
    "\n",
    "    log_rank = np.log10(np.linspace(1, len(sorted_words), len(sorted_words)))\n",
    "    log_cf = np.log10(np.array([word.freq for word in sorted_words]))\n",
    "    plt.plot(log_rank, log_cf, 'b')\n",
    "\n",
    "    cf1 = sorted_words[0].freq\n",
    "    log_i = np.log10(np.linspace(2, len(sorted_words), len(sorted_words) - 1))\n",
    "    log_cfi = np.log10(cf1) - log_i\n",
    "    plt.plot(log_i, log_cfi, 'r')\n",
    "\n",
    "    plt.title(\"Checking Zipf's Law after removing stop words\")\n",
    "    plt.legend([\"Actual Values\", \"Zipf's Law\"])\n",
    "    plt.xlabel(\"log10 rank\")\n",
    "    plt.ylabel(\"log10 cf\")\n",
    "    # plt.savefig(\"zipf_after_stopwords\")\n",
    "    plt.show()"
   ]
  },
  {
   "cell_type": "code",
   "execution_count": 13,
   "id": "5126768a",
   "metadata": {},
   "outputs": [],
   "source": [
    "def check_heaps():\n",
    "    log_M_root = np.log10([7664, 10762, 13016, 18292])\n",
    "    log_T_root = np.log10([84020, 165259, 248753, 369820])\n",
    "    log_M_nonroot = np.log10([10274, 14516, 17570, 24998])\n",
    "    log_T_nonroot = np.log10([78804, 155059, 233399, 347643])\n",
    "\n",
    "    mainM_root = 49318\n",
    "    mainT_root = 1639504\n",
    "    mainM_nonroot = 66766\n",
    "    mainT_nonroot = 1552919\n",
    "\n",
    "    plt.plot(log_T_root, log_M_root, 'b')\n",
    "    [b_root, log_k_root] = np.polyfit(log_T_root, log_M_root, 1)\n",
    "    plt.plot(log_T_root, b_root * log_T_root + log_k_root, 'g')\n",
    "\n",
    "    plt.plot(log_T_nonroot, log_M_nonroot, 'r')\n",
    "    [b_nonroot, log_k_nonroot] = np.polyfit(log_T_nonroot, log_M_nonroot, 1)\n",
    "    plt.plot(log_T_nonroot, b_nonroot * log_T_nonroot + log_k_nonroot, 'm')\n",
    "\n",
    "    plt.title(\"Checking Heaps' Law before and after finding roots\")\n",
    "    plt.legend(\n",
    "        [\"Actual Values after finding roots\", \"Heaps' Law after finding roots\",\n",
    "         \"Actual Values before finding roots\", \"Heaps' Law before finding roots\"])\n",
    "    plt.xlabel(\"log10 T\")\n",
    "    plt.ylabel(\"log10 M\")\n",
    "    # plt.savefig(\"heaps_law\")\n",
    "    # plt.show()\n",
    "\n",
    "    log_mainT_root = np.log10(mainT_root)\n",
    "    pred_log_mainM_root = log_k_root + b_root * log_mainT_root\n",
    "    pred_mainM_root = np.power(10, pred_log_mainM_root)\n",
    "\n",
    "    log_mainT_nonroot = np.log10(mainT_nonroot)\n",
    "    pred_log_mainM_nonroot = log_k_nonroot + b_nonroot * log_mainT_nonroot\n",
    "    pred_mainM_nonroot = np.power(10, pred_log_mainM_nonroot)\n",
    "\n",
    "    k_root = np.power(10, log_k_root)\n",
    "    k_nonroot = np.power(10, log_k_nonroot)\n",
    "\n",
    "    print(\"Values for k and b in root-mode:\")\n",
    "    print(\"k = \", k_root)\n",
    "    print(\"b = \", b_root)\n",
    "    print(\"================================\")\n",
    "    print(\"Number of Tokens in root-mode : \", mainT_root)\n",
    "    print(\"Predicted Size of Vocabulary in root-mode : \", pred_mainM_root)\n",
    "    print(\"Actual Size of Dictionary in root-mode : \", mainM_root)\n",
    "    print(\"=============================================================\")\n",
    "    print(\"Values for k and b in nonroot-mode:\")\n",
    "    print(\"k = \", k_nonroot)\n",
    "    print(\"b = \", b_nonroot)\n",
    "    print(\"================================\")\n",
    "    print(\"Number of Tokens in nonroot-mode : \", mainT_nonroot)\n",
    "    print(\"Predicted Size of Vocabulary in nonroot-mode : \", pred_mainM_nonroot)\n",
    "    print(\"Actual Size of Dictionary in nonroot-mode : \", mainM_nonroot)"
   ]
  },
  {
   "cell_type": "code",
   "execution_count": 14,
   "id": "25f90f7d",
   "metadata": {},
   "outputs": [],
   "source": [
    "main_dictionary = load_dictionary()\n",
    "dictionary = main_dictionary.get_dict()"
   ]
  },
  {
   "cell_type": "code",
   "execution_count": 15,
   "id": "eabc77d4",
   "metadata": {},
   "outputs": [
    {
     "data": {
      "image/png": "[encoded data removed]",
      "text/plain": [
       "<Figure size 432x288 with 1 Axes>"
      ]
     },
     "metadata": {
      "needs_background": "light"
     },
     "output_type": "display_data"
    }
   ],
   "source": [
    "check_Zipf(dictionary)"
   ]
  },
  {
   "cell_type": "code",
   "execution_count": 16,
   "id": "9c0649e4",
   "metadata": {},
   "outputs": [
    {
     "name": "stdout",
     "output_type": "stream",
     "text": [
      "Values for k and b in root-mode:\n",
      "k =  11.787370095275488\n",
      "b =  0.5689019785326529\n",
      "================================\n",
      "Number of Tokens in root-mode :  1639504\n",
      "Predicted Size of Vocabulary in root-mode :  40455.64649800604\n",
      "Actual Size of Dictionary in root-mode :  49318\n",
      "=============================================================\n",
      "Values for k and b in nonroot-mode:\n",
      "k =  14.463347478851963\n",
      "b =  0.579873653187066\n",
      "================================\n",
      "Number of Tokens in nonroot-mode :  1552919\n",
      "Predicted Size of Vocabulary in nonroot-mode :  56279.845213439985\n",
      "Actual Size of Dictionary in nonroot-mode :  66766\n"
     ]
    },
    {
     "data": {
      "image/png": "[encoded data removed]",
      "text/plain": [
       "<Figure size 432x288 with 1 Axes>"
      ]
     },
     "metadata": {
      "needs_background": "light"
     },
     "output_type": "display_data"
    }
   ],
   "source": [
    "check_heaps()"
   ]
  },
  {
   "cell_type": "code",
   "execution_count": 17,
   "id": "f3754746",
   "metadata": {},
   "outputs": [],
   "source": [
    "def positional_intersect(p1, p2, k):\n",
    "    doc_ids1 = list(p1.keys())\n",
    "    doc_ids2 = list(p2.keys())\n",
    "    doc_ids1.sort()\n",
    "    doc_ids2.sort()\n",
    "\n",
    "    answer = []\n",
    "    i, j = 0, 0\n",
    "    while i < len(doc_ids1) and j < len(doc_ids2):\n",
    "        doc_id1 = doc_ids1[i]\n",
    "        doc_id2 = doc_ids2[j]\n",
    "\n",
    "        if doc_id1 == doc_id2:\n",
    "            pp1 = p1[doc_id1]\n",
    "            pp2 = p2[doc_id2]\n",
    "\n",
    "            for pos in pp1:\n",
    "                if pos + k in pp2 or pos - k in pp2:\n",
    "                    answer.append(doc_id1)\n",
    "\n",
    "            i, j = i + 1, j + 1\n",
    "        elif doc_id1 < doc_id2:\n",
    "            i += 1\n",
    "        else:\n",
    "            j += 1\n",
    "\n",
    "    return answer"
   ]
  },
  {
   "cell_type": "code",
   "execution_count": 18,
   "id": "043600cd",
   "metadata": {},
   "outputs": [],
   "source": [
    "def search_phrase(phrase_dicts):\n",
    "    results = []\n",
    "    phrase_len = len(phrase_dicts)\n",
    "    for i in range(phrase_len):\n",
    "        for j in range(i + 1, phrase_len):\n",
    "            distance = j - i\n",
    "            results.append(positional_intersect(phrase_dicts[i], phrase_dicts[j], k=distance))\n",
    "    try:\n",
    "        return list(set.intersection(*map(set, results)))\n",
    "    except TypeError:\n",
    "        return results"
   ]
  },
  {
   "cell_type": "code",
   "execution_count": 19,
   "id": "cf66ec77",
   "metadata": {},
   "outputs": [],
   "source": [
    "def remove_duplicates(list):\n",
    "    res_list = []\n",
    "    for x in list:\n",
    "        if x in res_list:\n",
    "            continue\n",
    "        res_list.append(x)\n",
    "    return res_list"
   ]
  },
  {
   "cell_type": "code",
   "execution_count": 20,
   "id": "2f8e4024",
   "metadata": {},
   "outputs": [],
   "source": [
    "def query_permutations(query_dicts, num):\n",
    "    permutations_list = []\n",
    "    for i in range(len(query_dicts) - num + 1):\n",
    "        permutations_list.append(query_dicts[i:i + num])\n",
    "    return permutations_list"
   ]
  },
  {
   "cell_type": "code",
   "execution_count": 21,
   "id": "e7d2215e",
   "metadata": {},
   "outputs": [],
   "source": [
    "def boolean_search(query, dictionary, k=10):\n",
    "    query_list = preprocess([query])[0]\n",
    "    if len(query_list) == 1:\n",
    "        answer_dict = dictionary.search_query(query_list[0])\n",
    "        answer_keys = list(answer_dict.keys())\n",
    "        answer_list = dictionary.get_docs(answer_keys)\n",
    "    else:\n",
    "        query_dicts = [dictionary.search_query(q) for q in query_list]\n",
    "        answer_keys = []\n",
    "        for l in reversed(range(len(query_dicts))):\n",
    "            phrases = query_permutations(query_dicts, l + 1)\n",
    "            for phrase in phrases:\n",
    "                if len(phrase) > 1:\n",
    "                    answer_keys += search_phrase(phrase)\n",
    "                else:\n",
    "                    answer_keys += list(phrase[0].keys())\n",
    "        answer_list = dictionary.get_docs(remove_duplicates(answer_keys))\n",
    "\n",
    "    return answer_list[:k]"
   ]
  },
  {
   "cell_type": "code",
   "execution_count": 22,
   "id": "e8102cd9",
   "metadata": {},
   "outputs": [
    {
     "name": "stdout",
     "output_type": "stream",
     "text": [
      ">> Please Enter your Query: تار ایرانی\n",
      ">> Top 10 Results for «تار ایرانی» : \n",
      "====================\n",
      "موسیقی فولکلور مشهد در خانه ملک پیچید + ویدیو\n",
      "وقتی نوای تار با دوتار خراسان آمیخته می‌شود + ویدیو\n",
      "غافلگیری تار ایرانی در باغ شاهزاده ماهان\n",
      "نوای «تار ایرانی» با دوتار خراسان درآمیخت + ویدیو\n",
      "نقدی بر یادداشت «مرزبندی گفتمانی با طالبان»/ وارونه‌نمایی گفتمانی اصلاح‌طلبان\n",
      "پیوست عدالت!\n",
      "بیانیه بیش از هزار تن از چهره‌های حوزه علوم انسانی در حمایت از مردم افغانستان\n",
      "نکاتی که باید در مورد واکسیناسیون کرونا بدانیم\n",
      "نکاتی که باید در مورد واکسیناسیون کرونا بدانیم\n",
      "نوایی در ستایش حسین علیزاده\n",
      "===================================================\n",
      ">> Retrieval Time: --- 0.5853443145751953 seconds ---\n",
      "===================================================\n",
      ">> Please Enter your Query: واکسن آسترازنکا\n",
      ">> Top 10 Results for «واکسن آسترازنکا» : \n",
      "====================\n",
      "امکان ایجاد لخته خون در واکسن  آسترازنکا چقدر است؟\n",
      "محموله ۱.۴ میلیون دوزی واکسن کرونا وارد کشور شد\n",
      "نکاتی که باید در مورد واکسیناسیون کرونا بدانیم\n",
      "محموله ۱.۴ میلیون دوزی واکسن کرونا وارد کشور شد\n",
      "واکسن‌های کرونا با چه داروهایی تداخل دارند؟\n",
      "واکسیناسیون؛عقلانی‌ترین راه مقابله با کرونا/پرهیز از تزریق واکسن خارج از چرخه عمومی واکسیناسیون\n",
      "نکاتی که باید در مورد واکسیناسیون کرونا بدانیم\n",
      "مهم‌ترین سلاح مبارزه با کرونا\n",
      "مقررات تازه برای سفر زمینی ایران و ارمنستان\n",
      "واکسیناسیون؛عقلانی‌ترین راه مقابله با کرونا/پرهیز از تزریق واکسن خارج از چرخه عمومی واکسیناسیون\n",
      "===================================================\n",
      ">> Retrieval Time: --- 0.6015827655792236 seconds ---\n",
      "===================================================\n",
      ">> Please Enter your Query: \n"
     ]
    }
   ],
   "source": [
    "while True:\n",
    "    print(\">> Please Enter your Query: \", end='')\n",
    "    query = input()\n",
    "\n",
    "    if not query:\n",
    "        break\n",
    "\n",
    "    start_time = time.time()\n",
    "    print(\">> Top 10 Results for «%s» : \" % query)\n",
    "    print(\"====================\")\n",
    "    for result in boolean_search(query, main_dictionary, k=10):\n",
    "        print(result.strip())\n",
    "    print(\"===================================================\")\n",
    "    print(\">> Retrieval Time: --- %s seconds ---\" % (time.time() - start_time))\n",
    "    print(\"===================================================\")"
   ]
  }
 ],
 "metadata": {
  "kernelspec": {
   "display_name": "Python 3 (ipykernel)",
   "language": "python",
   "name": "python3"
  },
  "language_info": {
   "codemirror_mode": {
    "name": "ipython",
    "version": 3
   },
   "file_extension": ".py",
   "mimetype": "text/x-python",
   "name": "python",
   "nbconvert_exporter": "python",
   "pygments_lexer": "ipython3",
   "version": "3.9.10"
  }
 },
 "nbformat": 4,
 "nbformat_minor": 5
}
